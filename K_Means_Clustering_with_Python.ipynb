{
  "cells": [
    {
      "cell_type": "markdown",
      "metadata": {
        "id": "view-in-github",
        "colab_type": "text"
      },
      "source": [
        "<a href=\"https://colab.research.google.com/github/tonni59/K-Means-Clustering/blob/main/K_Means_Clustering_with_Python.ipynb\" target=\"_parent\"><img src=\"https://colab.research.google.com/assets/colab-badge.svg\" alt=\"Open In Colab\"/></a>"
      ]
    },
    {
      "cell_type": "markdown",
      "metadata": {
        "id": "-nT5wzS9dnw4"
      },
      "source": [
        "## Import Libraries"
      ]
    },
    {
      "cell_type": "code",
      "source": [
        "from google.colab import drive\n",
        "drive.mount('/content/drive')"
      ],
      "metadata": {
        "colab": {
          "base_uri": "https://localhost:8080/"
        },
        "id": "IWZpLhayG69o",
        "outputId": "2e6c6645-7b51-4014-af96-e464f6cf4231"
      },
      "execution_count": null,
      "outputs": [
        {
          "output_type": "stream",
          "name": "stdout",
          "text": [
            "Mounted at /content/drive\n"
          ]
        }
      ]
    },
    {
      "cell_type": "code",
      "execution_count": null,
      "metadata": {
        "collapsed": true,
        "id": "rTX8R8yhdnw5"
      },
      "outputs": [],
      "source": [
        "import seaborn as sns\n",
        "import matplotlib.pyplot as plt\n",
        "%matplotlib inline"
      ]
    },
    {
      "cell_type": "markdown",
      "metadata": {
        "id": "j7jDeQf1dnw6"
      },
      "source": [
        "## Create some Data"
      ]
    },
    {
      "cell_type": "code",
      "execution_count": null,
      "metadata": {
        "id": "Vrs5_nEOdnw7"
      },
      "outputs": [],
      "source": [
        "from sklearn.datasets import make_blobs\n",
        "from sklearn.datasets import make_circles"
      ]
    },
    {
      "cell_type": "code",
      "source": [
        "data1= make_circles(n_samples=100, noise=0.05)"
      ],
      "metadata": {
        "id": "wBOBNvlhynqa"
      },
      "execution_count": null,
      "outputs": []
    },
    {
      "cell_type": "code",
      "source": [
        "data1"
      ],
      "metadata": {
        "colab": {
          "base_uri": "https://localhost:8080/"
        },
        "id": "hgcyDoUnIYY8",
        "outputId": "b511cec3-e096-4c58-abc2-3b5bf5fe1265"
      },
      "execution_count": null,
      "outputs": [
        {
          "output_type": "execute_result",
          "data": {
            "text/plain": [
              "(array([[ 0.12825318,  0.89815479],\n",
              "        [-0.51580809,  0.53784152],\n",
              "        [ 0.83185954,  0.46235346],\n",
              "        [ 0.68367683, -0.35355051],\n",
              "        [ 0.70014328,  0.75592483],\n",
              "        [-0.29695511,  0.77321656],\n",
              "        [-0.26709228,  0.65351435],\n",
              "        [ 0.09374146, -0.80920276],\n",
              "        [-0.84234131,  0.25610086],\n",
              "        [ 0.79694794,  0.08834978],\n",
              "        [-0.34548408, -0.72703032],\n",
              "        [ 0.5717304 ,  0.58565333],\n",
              "        [ 0.1710684 , -0.73574137],\n",
              "        [ 0.34069905, -0.66003425],\n",
              "        [-0.72353999,  0.25992242],\n",
              "        [-0.78910115, -0.22800841],\n",
              "        [ 0.66803617,  0.79871624],\n",
              "        [ 0.374623  ,  0.90239967],\n",
              "        [-0.90013009, -0.49769999],\n",
              "        [ 0.09519735,  0.8033939 ],\n",
              "        [ 0.80286409, -0.68240774],\n",
              "        [-0.55187972,  0.52913758],\n",
              "        [-0.58002367, -0.75742013],\n",
              "        [ 0.40608551,  0.59860899],\n",
              "        [-0.06722562,  0.83037465],\n",
              "        [-0.47385039, -0.53342896],\n",
              "        [ 0.24454959,  0.76122088],\n",
              "        [-0.40808515,  0.80175588],\n",
              "        [ 0.68197901,  0.50781968],\n",
              "        [-0.04392797, -0.97841748],\n",
              "        [-0.84135369, -0.13911437],\n",
              "        [ 0.88686147,  0.36266084],\n",
              "        [-0.40327596, -0.90739389],\n",
              "        [-0.04197407,  1.01411533],\n",
              "        [ 0.74285397,  0.31088131],\n",
              "        [ 0.803548  , -0.28485578],\n",
              "        [-0.58731733, -0.81278393],\n",
              "        [ 0.50287141, -0.80069434],\n",
              "        [-0.3531866 , -0.94616846],\n",
              "        [-0.6019625 ,  0.44932691],\n",
              "        [ 0.38836186,  0.77015864],\n",
              "        [-1.03180855, -0.00223066],\n",
              "        [ 0.63371367, -0.81166831],\n",
              "        [-0.60326535,  0.70605073],\n",
              "        [-1.01869965,  0.1421926 ],\n",
              "        [ 0.42294101, -0.80900675],\n",
              "        [-0.43521749, -0.73447019],\n",
              "        [ 0.78364637, -0.38232676],\n",
              "        [-0.08712586, -0.82740294],\n",
              "        [ 0.64236644,  0.48166275],\n",
              "        [-0.75101606, -0.60392995],\n",
              "        [ 0.98146717, -0.19916069],\n",
              "        [-0.70407467,  0.48045094],\n",
              "        [ 1.0263987 , -0.09282209],\n",
              "        [ 0.89576123, -0.50864546],\n",
              "        [ 0.176548  ,  1.0425107 ],\n",
              "        [ 0.19925647, -0.97167111],\n",
              "        [-0.30896089,  1.00626064],\n",
              "        [ 0.68833069, -0.70442966],\n",
              "        [ 0.89856577, -0.15099855],\n",
              "        [ 0.4232598 , -0.67647256],\n",
              "        [-0.84130754,  0.61126066],\n",
              "        [-0.8934526 ,  0.48859891],\n",
              "        [ 0.47542079, -0.71595416],\n",
              "        [-0.16926797, -0.95356748],\n",
              "        [-0.43112347,  0.67601966],\n",
              "        [ 0.62020745, -0.52239449],\n",
              "        [-0.49023096,  0.74097061],\n",
              "        [ 0.42499256, -0.95262935],\n",
              "        [ 0.85234474,  0.63997503],\n",
              "        [-0.15925685,  0.98030577],\n",
              "        [ 0.02414437,  0.73840151],\n",
              "        [ 0.7761099 ,  0.70520282],\n",
              "        [-0.58957414, -0.53382712],\n",
              "        [-0.72893815,  0.7525436 ],\n",
              "        [-0.72660125,  0.71807391],\n",
              "        [ 0.82177396, -0.17476142],\n",
              "        [ 0.06846487, -0.98714899],\n",
              "        [ 0.76519343,  0.16630841],\n",
              "        [-0.79267229,  0.04492865],\n",
              "        [ 0.9031553 ,  0.26649352],\n",
              "        [ 0.11199166, -0.84063414],\n",
              "        [ 0.99027022,  0.13065969],\n",
              "        [-0.97741893, -0.34317378],\n",
              "        [-0.25671049, -0.8342136 ],\n",
              "        [ 0.77529806,  0.2070309 ],\n",
              "        [ 0.99496398, -0.01596   ],\n",
              "        [-0.75111744, -0.32168152],\n",
              "        [ 0.44969651,  1.02580449],\n",
              "        [-0.69258277, -0.67291661],\n",
              "        [-1.00389536, -0.10453642],\n",
              "        [-0.68250325,  0.05123847],\n",
              "        [-0.47825193, -0.51077539],\n",
              "        [-0.04336281, -0.85928418],\n",
              "        [ 0.88253978, -0.36758848],\n",
              "        [-0.9655711 ,  0.24514352],\n",
              "        [-0.80150899, -0.33741552],\n",
              "        [ 0.52595429,  0.54491884],\n",
              "        [-0.87439791, -0.26120071],\n",
              "        [-0.90263734,  0.36751678]]),\n",
              " array([0, 1, 0, 1, 0, 1, 1, 1, 1, 1, 1, 1, 1, 1, 1, 1, 0, 0, 0, 1, 0, 1,\n",
              "        0, 1, 1, 1, 1, 0, 1, 0, 1, 0, 0, 0, 1, 1, 0, 0, 0, 1, 1, 0, 0, 1,\n",
              "        0, 0, 1, 1, 1, 1, 0, 0, 1, 0, 0, 0, 0, 0, 0, 1, 1, 0, 0, 1, 0, 1,\n",
              "        1, 0, 0, 0, 0, 1, 0, 1, 0, 0, 1, 0, 1, 1, 0, 1, 0, 0, 1, 1, 0, 1,\n",
              "        0, 0, 0, 1, 1, 1, 0, 0, 1, 1, 0, 0]))"
            ]
          },
          "metadata": {},
          "execution_count": 6
        }
      ]
    },
    {
      "cell_type": "markdown",
      "metadata": {
        "id": "WVW3C1bddnw8"
      },
      "source": [
        "## Visualize Data"
      ]
    },
    {
      "cell_type": "code",
      "source": [],
      "metadata": {
        "id": "Y6c9xGAIJYo1"
      },
      "execution_count": null,
      "outputs": []
    },
    {
      "cell_type": "code",
      "source": [
        "plt.scatter(data1[0][:,0],data1[0][:,1],c=data1[1],cmap='rainbow')"
      ],
      "metadata": {
        "colab": {
          "base_uri": "https://localhost:8080/",
          "height": 282
        },
        "id": "epkvJ7_Zv49c",
        "outputId": "d38315c2-436e-452b-c2cf-bde96d5af7cd"
      },
      "execution_count": null,
      "outputs": [
        {
          "output_type": "execute_result",
          "data": {
            "text/plain": [
              "<matplotlib.collections.PathCollection at 0x7f798c7bad10>"
            ]
          },
          "metadata": {},
          "execution_count": 9
        },
        {
          "output_type": "display_data",
          "data": {
            "text/plain": [
              "<Figure size 432x288 with 1 Axes>"
            ],
            "image/png": "[encoded data removed]"
          },
          "metadata": {
            "needs_background": "light"
          }
        }
      ]
    },
    {
      "cell_type": "markdown",
      "metadata": {
        "id": "MqNqKnqzdnw_"
      },
      "source": [
        "## Creating the Clusters"
      ]
    },
    {
      "cell_type": "code",
      "execution_count": null,
      "metadata": {
        "collapsed": true,
        "id": "m-AIOHhVdnxA"
      },
      "outputs": [],
      "source": [
        "from sklearn.cluster import KMeans"
      ]
    },
    {
      "cell_type": "code",
      "execution_count": null,
      "metadata": {
        "collapsed": true,
        "id": "j1cbE70ednxB"
      },
      "outputs": [],
      "source": [
        "kmeans = KMeans(n_clusters=3)"
      ]
    },
    {
      "cell_type": "code",
      "execution_count": null,
      "metadata": {
        "colab": {
          "base_uri": "https://localhost:8080/"
        },
        "id": "wwgA7jh4dnxC",
        "outputId": "353202db-37f8-412a-cb19-24d2b5c40a81"
      },
      "outputs": [
        {
          "output_type": "execute_result",
          "data": {
            "text/plain": [
              "KMeans(n_clusters=3)"
            ]
          },
          "metadata": {},
          "execution_count": 17
        }
      ],
      "source": [
        "kmeans.fit(data1[0])"
      ]
    },
    {
      "cell_type": "code",
      "execution_count": null,
      "metadata": {
        "colab": {
          "base_uri": "https://localhost:8080/"
        },
        "id": "DEiKSQrodnxD",
        "outputId": "5d5834c3-f995-42e4-887c-6fe8f2daaa4e"
      },
      "outputs": [
        {
          "output_type": "execute_result",
          "data": {
            "text/plain": [
              "array([[-0.70086536,  0.31366594],\n",
              "       [ 0.08386492, -0.72814948],\n",
              "       [ 0.60048731,  0.46912717]])"
            ]
          },
          "metadata": {},
          "execution_count": 18
        }
      ],
      "source": [
        "kmeans.cluster_centers_"
      ]
    },
    {
      "cell_type": "code",
      "execution_count": null,
      "metadata": {
        "colab": {
          "base_uri": "https://localhost:8080/"
        },
        "id": "PDHroos-dnxD",
        "outputId": "1db4633c-e379-4c9d-9942-969efd616f08"
      },
      "outputs": [
        {
          "output_type": "execute_result",
          "data": {
            "text/plain": [
              "array([2, 0, 2, 1, 2, 0, 0, 1, 0, 2, 1, 2, 1, 1, 0, 0, 2, 2, 0, 2, 1, 0,\n",
              "       1, 2, 2, 1, 2, 0, 2, 1, 0, 2, 1, 2, 2, 2, 1, 1, 1, 0, 2, 0, 1, 0,\n",
              "       0, 1, 1, 1, 1, 2, 1, 2, 0, 2, 1, 2, 1, 0, 1, 2, 1, 0, 0, 1, 1, 0,\n",
              "       1, 0, 1, 2, 0, 2, 2, 1, 0, 0, 2, 1, 2, 0, 2, 1, 2, 0, 1, 2, 2, 0,\n",
              "       2, 1, 0, 0, 1, 1, 1, 0, 0, 2, 0, 0], dtype=int32)"
            ]
          },
          "metadata": {},
          "execution_count": 19
        }
      ],
      "source": [
        "kmeans.labels_"
      ]
    },
    {
      "cell_type": "code",
      "execution_count": null,
      "metadata": {
        "colab": {
          "base_uri": "https://localhost:8080/",
          "height": 407
        },
        "id": "d5T9CmKTdnxE",
        "outputId": "d6e80f1b-4330-4da3-825a-132640f1f622"
      },
      "outputs": [
        {
          "output_type": "execute_result",
          "data": {
            "text/plain": [
              "<matplotlib.collections.PathCollection at 0x7f798ae1ccd0>"
            ]
          },
          "metadata": {},
          "execution_count": 20
        },
        {
          "output_type": "display_data",
          "data": {
            "text/plain": [
              "<Figure size 720x432 with 2 Axes>"
            ],
            "image/png": "[encoded data removed]"
          },
          "metadata": {
            "needs_background": "light"
          }
        }
      ],
      "source": [
        "f, (ax1, ax2) = plt.subplots(1, 2, sharey=True,figsize=(10,6))\n",
        "ax1.set_title('K Means')\n",
        "ax1.scatter(data1[0][:,0],data1[0][:,1],c=kmeans.labels_,cmap='rainbow')\n",
        "ax2.set_title(\"Original\")\n",
        "ax2.scatter(data1[0][:,0],data1[0][:,1],c=data1[1],cmap='rainbow')"
      ]
    },
    {
      "cell_type": "code",
      "source": [],
      "metadata": {
        "id": "wlTRggQL9P20"
      },
      "execution_count": null,
      "outputs": []
    }
  ],
  "metadata": {
    "kernelspec": {
      "display_name": "Python 3",
      "language": "python",
      "name": "python3"
    },
    "language_info": {
      "codemirror_mode": {
        "name": "ipython",
        "version": 3
      },
      "file_extension": ".py",
      "mimetype": "text/x-python",
      "name": "python",
      "nbconvert_exporter": "python",
      "pygments_lexer": "ipython3",
      "version": "3.5.1"
    },
    "colab": {
      "provenance": [],
      "include_colab_link": true
    }
  },
  "nbformat": 4,
  "nbformat_minor": 0
}